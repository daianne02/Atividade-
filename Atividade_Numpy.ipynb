{
  "nbformat": 4,
  "nbformat_minor": 0,
  "metadata": {
    "colab": {
      "provenance": [],
      "authorship_tag": "ABX9TyP5A4x+w+zsXf7svUuBRNcC",
      "include_colab_link": true
    },
    "kernelspec": {
      "name": "python3",
      "display_name": "Python 3"
    },
    "language_info": {
      "name": "python"
    }
  },
  "cells": [
    {
      "cell_type": "markdown",
      "metadata": {
        "id": "view-in-github",
        "colab_type": "text"
      },
      "source": [
        "<a href=\"https://colab.research.google.com/github/daianne02/Atividade-/blob/main/Atividade_Numpy.ipynb\" target=\"_parent\"><img src=\"https://colab.research.google.com/assets/colab-badge.svg\" alt=\"Open In Colab\"/></a>"
      ]
    },
    {
      "cell_type": "code",
      "execution_count": null,
      "metadata": {
        "colab": {
          "base_uri": "https://localhost:8080/"
        },
        "id": "oNHnL5kBsw7v",
        "outputId": "3a34a8e4-070f-421c-8620-05ff612b82e2"
      },
      "outputs": [
        {
          "output_type": "stream",
          "name": "stdout",
          "text": [
            " Array: [1, 2, 3, 4, 5, 6, 7, 8, 9, 10]\n",
            " Array Alterado [1, 2, 3, 4, 5, 0, 0, 0, 0, 10]\n"
          ]
        }
      ],
      "source": [
        "#Exercício 1: Crie um array de 10 elementos. Depois, altere os valores de todos os elementos com índices de 5 a 8 para 0.\n",
        "Array = [1, 2, 3, 4, 5, 6, 7, 8, 9, 10]\n",
        "\n",
        "print(\" Array:\", Array)\n",
        "\n",
        "for i in range(5, 9):\n",
        "    Array[i] = 0\n",
        "\n",
        "print(\" Array Alterado\", Array)"
      ]
    },
    {
      "cell_type": "code",
      "source": [
        "#Exercício 2: Crie um array com 3 linhas e 2 colunas. Depois imprima o shape e a 2a linha da matriz.\n",
        "import numpy as np\n",
        "\n",
        "Matriz = np.array([[1, 2],\n",
        "                  [3, 4],\n",
        "                  [5, 6]])\n",
        "\n",
        "print(\" Matriz completa:\\n\", Matriz)\n",
        "print(\" Shape da matriz:\", Matriz.shape)\n",
        "print(\" Segunda linha:\", Matriz[1])"
      ],
      "metadata": {
        "colab": {
          "base_uri": "https://localhost:8080/"
        },
        "id": "ANVi6378wVk4",
        "outputId": "2c2e1d18-e98d-48f9-d0a9-73c515a2e51b"
      },
      "execution_count": null,
      "outputs": [
        {
          "output_type": "stream",
          "name": "stdout",
          "text": [
            " Matriz completa:\n",
            " [[1 2]\n",
            " [3 4]\n",
            " [5 6]]\n",
            " Shape da matriz: (3, 2)\n",
            " Segunda linha: [3 4]\n"
          ]
        }
      ]
    },
    {
      "cell_type": "code",
      "source": [
        "#Exercício 3: Crie um array com 3 linhas e 2 colunas. Depois imprima a 2a coluna.\n",
        "import numpy as np\n",
        "Matriz = np.array([[1, 2],\n",
        "                  [3, 4],\n",
        "                  [5, 6]])\n",
        "\n",
        "print(\" Matriz:\\n\", Matriz)\n",
        "\n",
        "print(\" Segunda coluna da matriz:\", Matriz[:, 1])"
      ],
      "metadata": {
        "colab": {
          "base_uri": "https://localhost:8080/"
        },
        "id": "ls_BCbaaxWXo",
        "outputId": "c41b103b-cc88-463e-d04a-1f6af6d7c660"
      },
      "execution_count": null,
      "outputs": [
        {
          "output_type": "stream",
          "name": "stdout",
          "text": [
            " Matriz:\n",
            " [[1 2]\n",
            " [3 4]\n",
            " [5 6]]\n",
            " Segunda coluna da matriz: [2 4 6]\n"
          ]
        }
      ]
    },
    {
      "cell_type": "code",
      "source": [
        "#Exercício 4: Crie um array de com 4 linhas e 5 colunas. Depois imprima os elementos da terceira linha da matriz.\n",
        "\n",
        "Matriz = [\n",
        "    [1, 2, 3, 4, 5],\n",
        "    [6, 7, 8, 9, 10],\n",
        "    [11, 12, 13, 14, 15],\n",
        "    [16, 17, 18, 19, 20]]\n",
        "\n",
        "\n",
        "print(\" Elementos da terceira linha:\")\n",
        "print(Matriz[2])\n",
        "\n",
        "# Alternativa: imprimindo cada elemento separadamente\n",
        "print(\"\\n Elementos da terceira linha:\")\n",
        "for Elemento in Matriz[2]:\n",
        "    print(Elemento)"
      ],
      "metadata": {
        "colab": {
          "base_uri": "https://localhost:8080/"
        },
        "id": "zKx0EBoTyHuJ",
        "outputId": "523d5ed6-791c-47e6-da42-091619d10a20"
      },
      "execution_count": null,
      "outputs": [
        {
          "output_type": "stream",
          "name": "stdout",
          "text": [
            " Elementos da terceira linha:\n",
            "[11, 12, 13, 14, 15]\n",
            "\n",
            " Elementos da terceira linha:\n",
            "11\n",
            "12\n",
            "13\n",
            "14\n",
            "15\n"
          ]
        }
      ]
    },
    {
      "cell_type": "code",
      "source": [
        "#Exercício 5: Crie um array de 4 linhas e 5 colunas. Depois imprima todos os elementos da primeira e segunda linhas e segunda a terceira colunas.\n",
        "Matriz = [\n",
        "    [1, 2, 3, 4, 5],\n",
        "    [6, 7, 8, 9, 10],\n",
        "    [11, 12, 13, 14, 15],\n",
        "    [16, 17, 18, 19, 20]]\n",
        "\n",
        "print(\" Elementos da primeira linha:\")\n",
        "print(Matriz[0])\n",
        "\n",
        "print(\" Elementos da segunda linha:\")\n",
        "print(Matriz[1])\n",
        "\n",
        "print(\" Elementos da segunda coluna:\")\n",
        "for i in range(4):\n",
        "    print(Matriz[i][1])\n",
        "\n",
        "print(\" Elementos da terceira coluna:\")\n",
        "for i in range(4):\n",
        "    print(Matriz[i][2])"
      ],
      "metadata": {
        "colab": {
          "base_uri": "https://localhost:8080/"
        },
        "id": "VV01s7hQzSCk",
        "outputId": "2bff7462-2982-46cf-9d16-97ace6ed18ca"
      },
      "execution_count": null,
      "outputs": [
        {
          "output_type": "stream",
          "name": "stdout",
          "text": [
            " Elementos da primeira linha:\n",
            "[1, 2, 3, 4, 5]\n",
            " Elementos da segunda linha:\n",
            "[6, 7, 8, 9, 10]\n",
            " Elementos da segunda coluna:\n",
            "2\n",
            "7\n",
            "12\n",
            "17\n",
            " Elementos da terceira coluna:\n",
            "3\n",
            "8\n",
            "13\n",
            "18\n"
          ]
        }
      ]
    },
    {
      "cell_type": "code",
      "source": [
        "#Exercício 6: Crie um array de com 4 linhas e 5 colunas. Depois imprima todos os elementos da segunda e terceira linhas e primeira a terceira colunas.\n",
        "Matriz = [\n",
        "    [1, 2, 3, 4, 5],\n",
        "    [6, 7, 8, 9, 10],\n",
        "    [11, 12, 13, 14, 15],\n",
        "    [16, 17, 18, 19, 20]]\n",
        "\n",
        "print(\" Segunda linha:\")\n",
        "print(Matriz[1])\n",
        "\n",
        "\n",
        "print(\" Terceira linha:\")\n",
        "print(Matriz[2])\n",
        "\n",
        "print(\" Primeira coluna:\")\n",
        "for i in range(4):\n",
        "    print(Matriz[i][0])\n",
        "\n",
        "print(\" Segunda coluna:\")\n",
        "for i in range(4):\n",
        "    print(Matriz[i][1])\n",
        "\n",
        "print(\" Terceira coluna:\")\n",
        "for i in range(4):\n",
        "    print(Matriz[i][2])"
      ],
      "metadata": {
        "colab": {
          "base_uri": "https://localhost:8080/"
        },
        "id": "CMrVGtrh0NDO",
        "outputId": "b5bee61e-6211-4a19-9244-eeaac71144bb"
      },
      "execution_count": null,
      "outputs": [
        {
          "output_type": "stream",
          "name": "stdout",
          "text": [
            " Segunda linha:\n",
            "[6, 7, 8, 9, 10]\n",
            " Terceira linha:\n",
            "[11, 12, 13, 14, 15]\n",
            " Primeira coluna:\n",
            "1\n",
            "6\n",
            "11\n",
            "16\n",
            " Segunda coluna:\n",
            "2\n",
            "7\n",
            "12\n",
            "17\n",
            " Terceira coluna:\n",
            "3\n",
            "8\n",
            "13\n",
            "18\n"
          ]
        }
      ]
    }
  ]
}